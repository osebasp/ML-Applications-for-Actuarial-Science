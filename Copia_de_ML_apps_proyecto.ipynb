{
  "nbformat": 4,
  "nbformat_minor": 0,
  "metadata": {
    "colab": {
      "provenance": []
    },
    "kernelspec": {
      "name": "ir",
      "display_name": "R"
    }
  },
  "cells": [
    {
      "cell_type": "markdown",
      "source": [
        "En este documento se presentará la primera versión de la fase de entendimiento de los datos.\n",
        "El objetivo de este cuaderno es mostrar un análisis preliminar exploratorio de los datos.\n",
        "\n",
        "Este ejercicio se realizará con lenguaje de programación R. En primer lugar, se muestran las librerías usadas"
      ],
      "metadata": {
        "id": "vi_TZTSEfFNT"
      }
    },
    {
      "cell_type": "code",
      "source": [
        "library(tibble)\n",
        "library(readr)\n",
        "library(dplyr)\n",
        "library(knitr)\n",
        "library(tidyr)\n",
        "install.packages(\"kableExtra\")\n",
        "library(kableExtra)\n",
        "library(ggplot2)\n",
        "install.packages(\"ggplot2\")\n",
        "library(ggplot2)"
      ],
      "metadata": {
        "id": "JcDrWaCDfHfh",
        "colab": {
          "base_uri": "https://localhost:8080/"
        },
        "outputId": "f5953f1c-56b6-433c-86c3-fc57aeb25ba4"
      },
      "execution_count": null,
      "outputs": [
        {
          "output_type": "stream",
          "name": "stderr",
          "text": [
            "Installing package into ‘/usr/local/lib/R/site-library’\n",
            "(as ‘lib’ is unspecified)\n",
            "\n",
            "Installing package into ‘/usr/local/lib/R/site-library’\n",
            "(as ‘lib’ is unspecified)\n",
            "\n"
          ]
        }
      ]
    },
    {
      "cell_type": "markdown",
      "source": [
        "A continuación se muestra la forma de importación de los datos para la base comauto_pos:"
      ],
      "metadata": {
        "id": "Lf91nELwi4NS"
      }
    },
    {
      "cell_type": "code",
      "source": [
        "AutoComercial<-read_csv(\"comauto_pos.csv\",col_names = TRUE)"
      ],
      "metadata": {
        "colab": {
          "base_uri": "https://localhost:8080/"
        },
        "id": "rCdMdPommGpV",
        "outputId": "437885e9-a127-4b59-f80c-87decf5d21f2"
      },
      "execution_count": null,
      "outputs": [
        {
          "output_type": "stream",
          "name": "stderr",
          "text": [
            "\u001b[1mRows: \u001b[22m\u001b[34m15800\u001b[39m \u001b[1mColumns: \u001b[22m\u001b[34m13\u001b[39m\n",
            "\u001b[36m──\u001b[39m \u001b[1mColumn specification\u001b[22m \u001b[36m────────────────────────────────────────────────────────\u001b[39m\n",
            "\u001b[1mDelimiter:\u001b[22m \",\"\n",
            "\u001b[31mchr\u001b[39m  (1): GRNAME\n",
            "\u001b[32mdbl\u001b[39m (12): GRCODE, AccidentYear, DevelopmentYear, DevelopmentLag, IncurLoss_C...\n",
            "\n",
            "\u001b[36mℹ\u001b[39m Use `spec()` to retrieve the full column specification for this data.\n",
            "\u001b[36mℹ\u001b[39m Specify the column types or set `show_col_types = FALSE` to quiet this message.\n"
          ]
        }
      ]
    },
    {
      "cell_type": "markdown",
      "source": [
        "Un análisis preliminar de los datos muestra lo siguiente:"
      ],
      "metadata": {
        "id": "EeP9uZaQnPYT"
      }
    },
    {
      "cell_type": "code",
      "source": [
        "str(AutoComercial)"
      ],
      "metadata": {
        "colab": {
          "base_uri": "https://localhost:8080/"
        },
        "id": "T3PlfhMknfGS",
        "outputId": "63d75859-20cd-4639-c8c8-14cf050d4ea8"
      },
      "execution_count": null,
      "outputs": [
        {
          "output_type": "stream",
          "name": "stdout",
          "text": [
            "spc_tbl_ [15,800 × 13] (S3: spec_tbl_df/tbl_df/tbl/data.frame)\n",
            " $ GRCODE           : num [1:15800] 266 266 266 266 266 266 266 266 266 266 ...\n",
            " $ GRNAME           : chr [1:15800] \"Public Underwriters Grp\" \"Public Underwriters Grp\" \"Public Underwriters Grp\" \"Public Underwriters Grp\" ...\n",
            " $ AccidentYear     : num [1:15800] 1988 1988 1988 1988 1988 ...\n",
            " $ DevelopmentYear  : num [1:15800] 1988 1989 1990 1991 1992 ...\n",
            " $ DevelopmentLag   : num [1:15800] 1 2 3 4 5 6 7 8 9 10 ...\n",
            " $ IncurLoss_C      : num [1:15800] 0 0 0 0 0 0 0 0 0 0 ...\n",
            " $ CumPaidLoss_C    : num [1:15800] 0 0 0 0 0 0 0 0 0 0 ...\n",
            " $ BulkLoss_C       : num [1:15800] 0 0 0 0 0 0 0 0 0 0 ...\n",
            " $ EarnedPremDIR_C  : num [1:15800] 0 0 0 0 0 0 0 0 0 0 ...\n",
            " $ EarnedPremCeded_C: num [1:15800] 0 0 0 0 0 0 0 0 0 0 ...\n",
            " $ EarnedPremNet_C  : num [1:15800] 0 0 0 0 0 0 0 0 0 0 ...\n",
            " $ Single           : num [1:15800] 0 0 0 0 0 0 0 0 0 0 ...\n",
            " $ PostedReserve97_C: num [1:15800] 932 932 932 932 932 932 932 932 932 932 ...\n",
            " - attr(*, \"spec\")=\n",
            "  .. cols(\n",
            "  ..   GRCODE = \u001b[32mcol_double()\u001b[39m,\n",
            "  ..   GRNAME = \u001b[31mcol_character()\u001b[39m,\n",
            "  ..   AccidentYear = \u001b[32mcol_double()\u001b[39m,\n",
            "  ..   DevelopmentYear = \u001b[32mcol_double()\u001b[39m,\n",
            "  ..   DevelopmentLag = \u001b[32mcol_double()\u001b[39m,\n",
            "  ..   IncurLoss_C = \u001b[32mcol_double()\u001b[39m,\n",
            "  ..   CumPaidLoss_C = \u001b[32mcol_double()\u001b[39m,\n",
            "  ..   BulkLoss_C = \u001b[32mcol_double()\u001b[39m,\n",
            "  ..   EarnedPremDIR_C = \u001b[32mcol_double()\u001b[39m,\n",
            "  ..   EarnedPremCeded_C = \u001b[32mcol_double()\u001b[39m,\n",
            "  ..   EarnedPremNet_C = \u001b[32mcol_double()\u001b[39m,\n",
            "  ..   Single = \u001b[32mcol_double()\u001b[39m,\n",
            "  ..   PostedReserve97_C = \u001b[32mcol_double()\u001b[39m\n",
            "  .. )\n",
            " - attr(*, \"problems\")=<externalptr> \n"
          ]
        }
      ]
    },
    {
      "cell_type": "markdown",
      "source": [
        "Los formatos lucen de la siguiente manera:"
      ],
      "metadata": {
        "id": "yupC2amCnvdB"
      }
    },
    {
      "cell_type": "code",
      "source": [
        "formatos <- AutoComercial %>%\n",
        "  summarize_all(list(format = ~ toString(class(.))))\n",
        "View(formatos)"
      ],
      "metadata": {
        "colab": {
          "base_uri": "https://localhost:8080/",
          "height": 149
        },
        "id": "u0iNCb6_n2Na",
        "outputId": "e1c87def-a0c0-439a-b20e-7d98ac029459"
      },
      "execution_count": null,
      "outputs": [
        {
          "output_type": "display_data",
          "data": {
            "text/plain": [
              "  GRCODE_format GRNAME_format AccidentYear_format DevelopmentYear_format\n",
              "1 numeric       character     numeric             numeric               \n",
              "  DevelopmentLag_format IncurLoss_C_format CumPaidLoss_C_format\n",
              "1 numeric               numeric            numeric             \n",
              "  BulkLoss_C_format EarnedPremDIR_C_format EarnedPremCeded_C_format\n",
              "1 numeric           numeric                numeric                 \n",
              "  EarnedPremNet_C_format Single_format PostedReserve97_C_format\n",
              "1 numeric                numeric       numeric                 "
            ],
            "text/html": [
              "<table class=\"dataframe\">\n",
              "<caption>A tibble: 1 × 13</caption>\n",
              "<thead>\n",
              "\t<tr><th scope=col>GRCODE_format</th><th scope=col>GRNAME_format</th><th scope=col>AccidentYear_format</th><th scope=col>DevelopmentYear_format</th><th scope=col>DevelopmentLag_format</th><th scope=col>IncurLoss_C_format</th><th scope=col>CumPaidLoss_C_format</th><th scope=col>BulkLoss_C_format</th><th scope=col>EarnedPremDIR_C_format</th><th scope=col>EarnedPremCeded_C_format</th><th scope=col>EarnedPremNet_C_format</th><th scope=col>Single_format</th><th scope=col>PostedReserve97_C_format</th></tr>\n",
              "\t<tr><th scope=col>&lt;chr&gt;</th><th scope=col>&lt;chr&gt;</th><th scope=col>&lt;chr&gt;</th><th scope=col>&lt;chr&gt;</th><th scope=col>&lt;chr&gt;</th><th scope=col>&lt;chr&gt;</th><th scope=col>&lt;chr&gt;</th><th scope=col>&lt;chr&gt;</th><th scope=col>&lt;chr&gt;</th><th scope=col>&lt;chr&gt;</th><th scope=col>&lt;chr&gt;</th><th scope=col>&lt;chr&gt;</th><th scope=col>&lt;chr&gt;</th></tr>\n",
              "</thead>\n",
              "<tbody>\n",
              "\t<tr><td>numeric</td><td>character</td><td>numeric</td><td>numeric</td><td>numeric</td><td>numeric</td><td>numeric</td><td>numeric</td><td>numeric</td><td>numeric</td><td>numeric</td><td>numeric</td><td>numeric</td></tr>\n",
              "</tbody>\n",
              "</table>\n"
            ],
            "text/markdown": "\nA tibble: 1 × 13\n\n| GRCODE_format &lt;chr&gt; | GRNAME_format &lt;chr&gt; | AccidentYear_format &lt;chr&gt; | DevelopmentYear_format &lt;chr&gt; | DevelopmentLag_format &lt;chr&gt; | IncurLoss_C_format &lt;chr&gt; | CumPaidLoss_C_format &lt;chr&gt; | BulkLoss_C_format &lt;chr&gt; | EarnedPremDIR_C_format &lt;chr&gt; | EarnedPremCeded_C_format &lt;chr&gt; | EarnedPremNet_C_format &lt;chr&gt; | Single_format &lt;chr&gt; | PostedReserve97_C_format &lt;chr&gt; |\n|---|---|---|---|---|---|---|---|---|---|---|---|---|\n| numeric | character | numeric | numeric | numeric | numeric | numeric | numeric | numeric | numeric | numeric | numeric | numeric |\n\n",
            "text/latex": "A tibble: 1 × 13\n\\begin{tabular}{lllllllllllll}\n GRCODE\\_format & GRNAME\\_format & AccidentYear\\_format & DevelopmentYear\\_format & DevelopmentLag\\_format & IncurLoss\\_C\\_format & CumPaidLoss\\_C\\_format & BulkLoss\\_C\\_format & EarnedPremDIR\\_C\\_format & EarnedPremCeded\\_C\\_format & EarnedPremNet\\_C\\_format & Single\\_format & PostedReserve97\\_C\\_format\\\\\n <chr> & <chr> & <chr> & <chr> & <chr> & <chr> & <chr> & <chr> & <chr> & <chr> & <chr> & <chr> & <chr>\\\\\n\\hline\n\t numeric & character & numeric & numeric & numeric & numeric & numeric & numeric & numeric & numeric & numeric & numeric & numeric\\\\\n\\end{tabular}\n"
          },
          "metadata": {}
        }
      ]
    },
    {
      "cell_type": "markdown",
      "source": [
        "La única variable categórica es GRCODE que se compone de la siguiente manera:"
      ],
      "metadata": {
        "id": "O6ajMuUDurfi"
      }
    },
    {
      "cell_type": "code",
      "source": [
        "elementos <- unique(AutoComercial$GRNAME)\n",
        "elementos_distintos_df <- data.frame(Compañía = elementos)\n",
        "View(elementos_distintos_df)"
      ],
      "metadata": {
        "colab": {
          "base_uri": "https://localhost:8080/",
          "height": 1000
        },
        "id": "4qizqXkeu82L",
        "outputId": "da6ae411-083d-4dd8-e2c1-fb97ddbdbe16"
      },
      "execution_count": null,
      "outputs": [
        {
          "output_type": "display_data",
          "data": {
            "text/plain": [
              "    Compañía                           \n",
              "1   Public Underwriters Grp            \n",
              "2   California Cas Grp                 \n",
              "3   Celina Mut Grp                     \n",
              "4   Federal Ins Co Grp                 \n",
              "5   Buckeye Ins Grp                    \n",
              "6   Employers Mut Co Of Des Moines     \n",
              "7   FM Global                          \n",
              "8   Farm Bureau Of MI Grp              \n",
              "9   West Bend Mut Ins Grp              \n",
              "10  Grange Ins Asn Grp                 \n",
              "11  Secura Ins Co                      \n",
              "12  Island Ins Cos Grp                 \n",
              "13  Kentucky Farm Bureau Mut Ins Grp   \n",
              "14  American Modern Ins Grp Inc        \n",
              "15  Farmers Automobile Grp             \n",
              "16  Germania Ins Grp                   \n",
              "17  State Farm Mut Grp                 \n",
              "18  United Services Automobile Asn Grp \n",
              "19  Erie Ins Exchange Grp              \n",
              "20  Farmers Alliance Mut & Affiliates  \n",
              "21  Oklahoma Farm Grp                  \n",
              "22  New York Marine & General Ins Co   \n",
              "23  Canal Ins Co Grp                   \n",
              "24  Pennsylvania Natl Ins Grp          \n",
              "25  Aegis Grp                          \n",
              "26  NC Farm Bureau Ins Grp             \n",
              "27  Florists Mut Ins Grp               \n",
              "28  FL Farm Bureau Grp                 \n",
              "29  Grinnell Mut Grp                   \n",
              "30  Cameron Mut Grp                    \n",
              "⋮   ⋮                                  \n",
              "128 British Amer Ins Co                \n",
              "129 Capacity Ins Co                    \n",
              "130 First American Specilaty Ins Co    \n",
              "131 Center Mut Ins Co                  \n",
              "132 Sirius Amer Ins Co                 \n",
              "133 Daily Underwriters Of Amer         \n",
              "134 Health Care Ind Inc                \n",
              "135 Service Ins Co                     \n",
              "136 Nonprofits Ins Assn Interins       \n",
              "137 Governmental Interins Exch         \n",
              "138 Contractors Bonding & Ins Co       \n",
              "139 Pacific Specialty Ins Co           \n",
              "140 Samsung Fire & Marine Ins Co Ltd   \n",
              "141 Evergreen USA RRG Inc              \n",
              "142 Omega Ins Co                       \n",
              "143 Alaska Nat Ins Co                  \n",
              "144 Nissan Fire & Marine Ins Co Us Br  \n",
              "145 Seguros Triples Inc                \n",
              "146 American Sterling Ins Co           \n",
              "147 American Resources Ins Co Inc      \n",
              "148 Southern Group Ind Inc             \n",
              "149 Nova Cas Co                        \n",
              "150 Atlantic Cas Ins Co                \n",
              "151 Gramercy Ins Co                    \n",
              "152 San Antonio Reins Co               \n",
              "153 American Hallmark Ins Co Of TX     \n",
              "154 Dowa Fire & Marine Ins Co Ltd Us Br\n",
              "155 Paratransit RRG Grp Ins Co         \n",
              "156 Yel Co Ins                         \n",
              "157 College Liability Ins Co Ltd RRG   "
            ],
            "text/html": [
              "<table class=\"dataframe\">\n",
              "<caption>A data.frame: 157 × 1</caption>\n",
              "<thead>\n",
              "\t<tr><th scope=col>Compañía</th></tr>\n",
              "\t<tr><th scope=col>&lt;chr&gt;</th></tr>\n",
              "</thead>\n",
              "<tbody>\n",
              "\t<tr><td>Public Underwriters Grp           </td></tr>\n",
              "\t<tr><td>California Cas Grp                </td></tr>\n",
              "\t<tr><td>Celina Mut Grp                    </td></tr>\n",
              "\t<tr><td>Federal Ins Co Grp                </td></tr>\n",
              "\t<tr><td>Buckeye Ins Grp                   </td></tr>\n",
              "\t<tr><td>Employers Mut Co Of Des Moines    </td></tr>\n",
              "\t<tr><td>FM Global                         </td></tr>\n",
              "\t<tr><td>Farm Bureau Of MI Grp             </td></tr>\n",
              "\t<tr><td>West Bend Mut Ins Grp             </td></tr>\n",
              "\t<tr><td>Grange Ins Asn Grp                </td></tr>\n",
              "\t<tr><td>Secura Ins Co                     </td></tr>\n",
              "\t<tr><td>Island Ins Cos Grp                </td></tr>\n",
              "\t<tr><td>Kentucky Farm Bureau Mut Ins Grp  </td></tr>\n",
              "\t<tr><td>American Modern Ins Grp Inc       </td></tr>\n",
              "\t<tr><td>Farmers Automobile Grp            </td></tr>\n",
              "\t<tr><td>Germania Ins Grp                  </td></tr>\n",
              "\t<tr><td>State Farm Mut Grp                </td></tr>\n",
              "\t<tr><td>United Services Automobile Asn Grp</td></tr>\n",
              "\t<tr><td>Erie Ins Exchange Grp             </td></tr>\n",
              "\t<tr><td>Farmers Alliance Mut &amp; Affiliates </td></tr>\n",
              "\t<tr><td>Oklahoma Farm Grp                 </td></tr>\n",
              "\t<tr><td><span style=white-space:pre-wrap>New York Marine &amp; General Ins Co  </span></td></tr>\n",
              "\t<tr><td>Canal Ins Co Grp                  </td></tr>\n",
              "\t<tr><td>Pennsylvania Natl Ins Grp         </td></tr>\n",
              "\t<tr><td>Aegis Grp                         </td></tr>\n",
              "\t<tr><td>NC Farm Bureau Ins Grp            </td></tr>\n",
              "\t<tr><td>Florists Mut Ins Grp              </td></tr>\n",
              "\t<tr><td>FL Farm Bureau Grp                </td></tr>\n",
              "\t<tr><td>Grinnell Mut Grp                  </td></tr>\n",
              "\t<tr><td>Cameron Mut Grp                   </td></tr>\n",
              "\t<tr><td>⋮</td></tr>\n",
              "\t<tr><td>British Amer Ins Co                </td></tr>\n",
              "\t<tr><td>Capacity Ins Co                    </td></tr>\n",
              "\t<tr><td>First American Specilaty Ins Co    </td></tr>\n",
              "\t<tr><td>Center Mut Ins Co                  </td></tr>\n",
              "\t<tr><td>Sirius Amer Ins Co                 </td></tr>\n",
              "\t<tr><td>Daily Underwriters Of Amer         </td></tr>\n",
              "\t<tr><td>Health Care Ind Inc                </td></tr>\n",
              "\t<tr><td>Service Ins Co                     </td></tr>\n",
              "\t<tr><td>Nonprofits Ins Assn Interins       </td></tr>\n",
              "\t<tr><td>Governmental Interins Exch         </td></tr>\n",
              "\t<tr><td><span style=white-space:pre-wrap>Contractors Bonding &amp; Ins Co       </span></td></tr>\n",
              "\t<tr><td>Pacific Specialty Ins Co           </td></tr>\n",
              "\t<tr><td><span style=white-space:pre-wrap>Samsung Fire &amp; Marine Ins Co Ltd   </span></td></tr>\n",
              "\t<tr><td>Evergreen USA RRG Inc              </td></tr>\n",
              "\t<tr><td>Omega Ins Co                       </td></tr>\n",
              "\t<tr><td>Alaska Nat Ins Co                  </td></tr>\n",
              "\t<tr><td><span style=white-space:pre-wrap>Nissan Fire &amp; Marine Ins Co Us Br  </span></td></tr>\n",
              "\t<tr><td>Seguros Triples Inc                </td></tr>\n",
              "\t<tr><td>American Sterling Ins Co           </td></tr>\n",
              "\t<tr><td>American Resources Ins Co Inc      </td></tr>\n",
              "\t<tr><td>Southern Group Ind Inc             </td></tr>\n",
              "\t<tr><td>Nova Cas Co                        </td></tr>\n",
              "\t<tr><td>Atlantic Cas Ins Co                </td></tr>\n",
              "\t<tr><td>Gramercy Ins Co                    </td></tr>\n",
              "\t<tr><td>San Antonio Reins Co               </td></tr>\n",
              "\t<tr><td>American Hallmark Ins Co Of TX     </td></tr>\n",
              "\t<tr><td>Dowa Fire &amp; Marine Ins Co Ltd Us Br</td></tr>\n",
              "\t<tr><td>Paratransit RRG Grp Ins Co         </td></tr>\n",
              "\t<tr><td>Yel Co Ins                         </td></tr>\n",
              "\t<tr><td>College Liability Ins Co Ltd RRG   </td></tr>\n",
              "</tbody>\n",
              "</table>\n"
            ],
            "text/markdown": "\nA data.frame: 157 × 1\n\n| Compañía &lt;chr&gt; |\n|---|\n| Public Underwriters Grp            |\n| California Cas Grp                 |\n| Celina Mut Grp                     |\n| Federal Ins Co Grp                 |\n| Buckeye Ins Grp                    |\n| Employers Mut Co Of Des Moines     |\n| FM Global                          |\n| Farm Bureau Of MI Grp              |\n| West Bend Mut Ins Grp              |\n| Grange Ins Asn Grp                 |\n| Secura Ins Co                      |\n| Island Ins Cos Grp                 |\n| Kentucky Farm Bureau Mut Ins Grp   |\n| American Modern Ins Grp Inc        |\n| Farmers Automobile Grp             |\n| Germania Ins Grp                   |\n| State Farm Mut Grp                 |\n| United Services Automobile Asn Grp |\n| Erie Ins Exchange Grp              |\n| Farmers Alliance Mut &amp; Affiliates  |\n| Oklahoma Farm Grp                  |\n| New York Marine &amp; General Ins Co   |\n| Canal Ins Co Grp                   |\n| Pennsylvania Natl Ins Grp          |\n| Aegis Grp                          |\n| NC Farm Bureau Ins Grp             |\n| Florists Mut Ins Grp               |\n| FL Farm Bureau Grp                 |\n| Grinnell Mut Grp                   |\n| Cameron Mut Grp                    |\n| ⋮ |\n| British Amer Ins Co                 |\n| Capacity Ins Co                     |\n| First American Specilaty Ins Co     |\n| Center Mut Ins Co                   |\n| Sirius Amer Ins Co                  |\n| Daily Underwriters Of Amer          |\n| Health Care Ind Inc                 |\n| Service Ins Co                      |\n| Nonprofits Ins Assn Interins        |\n| Governmental Interins Exch          |\n| Contractors Bonding &amp; Ins Co        |\n| Pacific Specialty Ins Co            |\n| Samsung Fire &amp; Marine Ins Co Ltd    |\n| Evergreen USA RRG Inc               |\n| Omega Ins Co                        |\n| Alaska Nat Ins Co                   |\n| Nissan Fire &amp; Marine Ins Co Us Br   |\n| Seguros Triples Inc                 |\n| American Sterling Ins Co            |\n| American Resources Ins Co Inc       |\n| Southern Group Ind Inc              |\n| Nova Cas Co                         |\n| Atlantic Cas Ins Co                 |\n| Gramercy Ins Co                     |\n| San Antonio Reins Co                |\n| American Hallmark Ins Co Of TX      |\n| Dowa Fire &amp; Marine Ins Co Ltd Us Br |\n| Paratransit RRG Grp Ins Co          |\n| Yel Co Ins                          |\n| College Liability Ins Co Ltd RRG    |\n\n",
            "text/latex": "A data.frame: 157 × 1\n\\begin{tabular}{l}\n Compañía\\\\\n <chr>\\\\\n\\hline\n\t Public Underwriters Grp           \\\\\n\t California Cas Grp                \\\\\n\t Celina Mut Grp                    \\\\\n\t Federal Ins Co Grp                \\\\\n\t Buckeye Ins Grp                   \\\\\n\t Employers Mut Co Of Des Moines    \\\\\n\t FM Global                         \\\\\n\t Farm Bureau Of MI Grp             \\\\\n\t West Bend Mut Ins Grp             \\\\\n\t Grange Ins Asn Grp                \\\\\n\t Secura Ins Co                     \\\\\n\t Island Ins Cos Grp                \\\\\n\t Kentucky Farm Bureau Mut Ins Grp  \\\\\n\t American Modern Ins Grp Inc       \\\\\n\t Farmers Automobile Grp            \\\\\n\t Germania Ins Grp                  \\\\\n\t State Farm Mut Grp                \\\\\n\t United Services Automobile Asn Grp\\\\\n\t Erie Ins Exchange Grp             \\\\\n\t Farmers Alliance Mut \\& Affiliates \\\\\n\t Oklahoma Farm Grp                 \\\\\n\t New York Marine \\& General Ins Co  \\\\\n\t Canal Ins Co Grp                  \\\\\n\t Pennsylvania Natl Ins Grp         \\\\\n\t Aegis Grp                         \\\\\n\t NC Farm Bureau Ins Grp            \\\\\n\t Florists Mut Ins Grp              \\\\\n\t FL Farm Bureau Grp                \\\\\n\t Grinnell Mut Grp                  \\\\\n\t Cameron Mut Grp                   \\\\\n\t ⋮\\\\\n\t British Amer Ins Co                \\\\\n\t Capacity Ins Co                    \\\\\n\t First American Specilaty Ins Co    \\\\\n\t Center Mut Ins Co                  \\\\\n\t Sirius Amer Ins Co                 \\\\\n\t Daily Underwriters Of Amer         \\\\\n\t Health Care Ind Inc                \\\\\n\t Service Ins Co                     \\\\\n\t Nonprofits Ins Assn Interins       \\\\\n\t Governmental Interins Exch         \\\\\n\t Contractors Bonding \\& Ins Co       \\\\\n\t Pacific Specialty Ins Co           \\\\\n\t Samsung Fire \\& Marine Ins Co Ltd   \\\\\n\t Evergreen USA RRG Inc              \\\\\n\t Omega Ins Co                       \\\\\n\t Alaska Nat Ins Co                  \\\\\n\t Nissan Fire \\& Marine Ins Co Us Br  \\\\\n\t Seguros Triples Inc                \\\\\n\t American Sterling Ins Co           \\\\\n\t American Resources Ins Co Inc      \\\\\n\t Southern Group Ind Inc             \\\\\n\t Nova Cas Co                        \\\\\n\t Atlantic Cas Ins Co                \\\\\n\t Gramercy Ins Co                    \\\\\n\t San Antonio Reins Co               \\\\\n\t American Hallmark Ins Co Of TX     \\\\\n\t Dowa Fire \\& Marine Ins Co Ltd Us Br\\\\\n\t Paratransit RRG Grp Ins Co         \\\\\n\t Yel Co Ins                         \\\\\n\t College Liability Ins Co Ltd RRG   \\\\\n\\end{tabular}\n"
          },
          "metadata": {}
        }
      ]
    },
    {
      "cell_type": "markdown",
      "source": [
        "Las estadisticas descriptivas se ven así:"
      ],
      "metadata": {
        "id": "3jcBJdx3pCmw"
      }
    },
    {
      "cell_type": "code",
      "source": [
        "EstDesc<-summary(AutoComercial)\n",
        "EstDesc"
      ],
      "metadata": {
        "colab": {
          "base_uri": "https://localhost:8080/",
          "height": 503
        },
        "id": "M1ExyKy6pIVf",
        "outputId": "d6db03ff-4ab7-4524-d318-280f6769c769"
      },
      "execution_count": null,
      "outputs": [
        {
          "output_type": "display_data",
          "data": {
            "text/plain": [
              "     GRCODE         GRNAME           AccidentYear  DevelopmentYear\n",
              " Min.   :  266   Length:15800       Min.   :1988   Min.   :1988   \n",
              " 1st Qu.: 8281   Class :character   1st Qu.:1990   1st Qu.:1994   \n",
              " Median :15303   Mode  :character   Median :1992   Median :1997   \n",
              " Mean   :18655                      Mean   :1992   Mean   :1997   \n",
              " 3rd Qu.:28886                      3rd Qu.:1995   3rd Qu.:2000   \n",
              " Max.   :44598                      Max.   :1997   Max.   :2006   \n",
              " DevelopmentLag  IncurLoss_C     CumPaidLoss_C         BulkLoss_C      \n",
              " Min.   : 1.0   Min.   :  -253   Min.   :  -253.00   Min.   : -1395.0  \n",
              " 1st Qu.: 3.0   1st Qu.:     5   1st Qu.:     2.75   1st Qu.:     0.0  \n",
              " Median : 5.5   Median :   315   Median :   229.00   Median :     0.0  \n",
              " Mean   : 5.5   Mean   :  5156   Mean   :  4190.97   Mean   :   357.4  \n",
              " 3rd Qu.: 8.0   3rd Qu.:  1965   3rd Qu.:  1535.25   3rd Qu.:    26.0  \n",
              " Max.   :10.0   Max.   :256434   Max.   :244280.00   Max.   :105923.0  \n",
              " EarnedPremDIR_C    EarnedPremCeded_C EarnedPremNet_C        Single      \n",
              " Min.   :  -445.0   Min.   :-3329.0   Min.   :  -128.0   Min.   :0.0000  \n",
              " 1st Qu.:    42.8   1st Qu.:    0.0   1st Qu.:    19.8   1st Qu.:0.0000  \n",
              " Median :   732.0   Median :   73.0   Median :   549.5   Median :1.0000  \n",
              " Mean   :  8985.4   Mean   : 1508.9   Mean   :  7476.6   Mean   :0.7215  \n",
              " 3rd Qu.:  3991.5   3rd Qu.:  656.2   3rd Qu.:  2810.5   3rd Qu.:1.0000  \n",
              " Max.   :412331.0   Max.   :60233.0   Max.   :406609.0   Max.   :1.0000  \n",
              " PostedReserve97_C\n",
              " Min.   :     0   \n",
              " 1st Qu.:   121   \n",
              " Median :   938   \n",
              " Mean   : 10815   \n",
              " 3rd Qu.:  4711   \n",
              " Max.   :360657   "
            ]
          },
          "metadata": {}
        }
      ]
    },
    {
      "cell_type": "markdown",
      "source": [
        "A continuación, se presenta un análisis exploratorio de las cifras relacionadas a los siniestros que representan un insumo importante dentro del IBNR con base en el año de desarrollo:"
      ],
      "metadata": {
        "id": "GktwtVJn5-K-"
      }
    },
    {
      "cell_type": "code",
      "source": [
        "resumen_por_año <- AutoComercial %>%\n",
        "  group_by(DevelopmentYear) %>%\n",
        "  summarise(Incurred_Loss = sum(IncurLoss_C), Cummulate_Loss = sum(CumPaidLoss_C))\n",
        "\n",
        "resumen_por_año<-as.data.frame(resumen_por_año)\n",
        "View(resumen_por_año)\n"
      ],
      "metadata": {
        "colab": {
          "base_uri": "https://localhost:8080/",
          "height": 693
        },
        "id": "WJRBg7De6Rua",
        "outputId": "18895b8f-58eb-4cee-9d3b-4c7a9c43cbfb"
      },
      "execution_count": null,
      "outputs": [
        {
          "output_type": "display_data",
          "data": {
            "text/plain": [
              "   DevelopmentYear Incurred_Loss Cummulate_Loss\n",
              "1  1988             600839        154058       \n",
              "2  1989            1309342        500772       \n",
              "3  1990            2081606        987503       \n",
              "4  1991            2859155       1587324       \n",
              "5  1992            3674297       2234030       \n",
              "6  1993            4522315       2982593       \n",
              "7  1994            5404961       3781285       \n",
              "8  1995            6311670       4646588       \n",
              "9  1996            7174345       5562037       \n",
              "10 1997            8051238       6449562       \n",
              "11 1998            7429344       6460829       \n",
              "12 1999            6749233       6209861       \n",
              "13 2000            6042077       5744583       \n",
              "14 2001            5322303       5158822       \n",
              "15 2002            4550222       4462499       \n",
              "16 2003            3715769       3674079       \n",
              "17 2004            2810161       2786136       \n",
              "18 2005            1895680       1883709       \n",
              "19 2006             956165        951111       "
            ],
            "text/html": [
              "<table class=\"dataframe\">\n",
              "<caption>A data.frame: 19 × 3</caption>\n",
              "<thead>\n",
              "\t<tr><th scope=col>DevelopmentYear</th><th scope=col>Incurred_Loss</th><th scope=col>Cummulate_Loss</th></tr>\n",
              "\t<tr><th scope=col>&lt;dbl&gt;</th><th scope=col>&lt;dbl&gt;</th><th scope=col>&lt;dbl&gt;</th></tr>\n",
              "</thead>\n",
              "<tbody>\n",
              "\t<tr><td>1988</td><td> 600839</td><td> 154058</td></tr>\n",
              "\t<tr><td>1989</td><td>1309342</td><td> 500772</td></tr>\n",
              "\t<tr><td>1990</td><td>2081606</td><td> 987503</td></tr>\n",
              "\t<tr><td>1991</td><td>2859155</td><td>1587324</td></tr>\n",
              "\t<tr><td>1992</td><td>3674297</td><td>2234030</td></tr>\n",
              "\t<tr><td>1993</td><td>4522315</td><td>2982593</td></tr>\n",
              "\t<tr><td>1994</td><td>5404961</td><td>3781285</td></tr>\n",
              "\t<tr><td>1995</td><td>6311670</td><td>4646588</td></tr>\n",
              "\t<tr><td>1996</td><td>7174345</td><td>5562037</td></tr>\n",
              "\t<tr><td>1997</td><td>8051238</td><td>6449562</td></tr>\n",
              "\t<tr><td>1998</td><td>7429344</td><td>6460829</td></tr>\n",
              "\t<tr><td>1999</td><td>6749233</td><td>6209861</td></tr>\n",
              "\t<tr><td>2000</td><td>6042077</td><td>5744583</td></tr>\n",
              "\t<tr><td>2001</td><td>5322303</td><td>5158822</td></tr>\n",
              "\t<tr><td>2002</td><td>4550222</td><td>4462499</td></tr>\n",
              "\t<tr><td>2003</td><td>3715769</td><td>3674079</td></tr>\n",
              "\t<tr><td>2004</td><td>2810161</td><td>2786136</td></tr>\n",
              "\t<tr><td>2005</td><td>1895680</td><td>1883709</td></tr>\n",
              "\t<tr><td>2006</td><td> 956165</td><td> 951111</td></tr>\n",
              "</tbody>\n",
              "</table>\n"
            ],
            "text/markdown": "\nA data.frame: 19 × 3\n\n| DevelopmentYear &lt;dbl&gt; | Incurred_Loss &lt;dbl&gt; | Cummulate_Loss &lt;dbl&gt; |\n|---|---|---|\n| 1988 |  600839 |  154058 |\n| 1989 | 1309342 |  500772 |\n| 1990 | 2081606 |  987503 |\n| 1991 | 2859155 | 1587324 |\n| 1992 | 3674297 | 2234030 |\n| 1993 | 4522315 | 2982593 |\n| 1994 | 5404961 | 3781285 |\n| 1995 | 6311670 | 4646588 |\n| 1996 | 7174345 | 5562037 |\n| 1997 | 8051238 | 6449562 |\n| 1998 | 7429344 | 6460829 |\n| 1999 | 6749233 | 6209861 |\n| 2000 | 6042077 | 5744583 |\n| 2001 | 5322303 | 5158822 |\n| 2002 | 4550222 | 4462499 |\n| 2003 | 3715769 | 3674079 |\n| 2004 | 2810161 | 2786136 |\n| 2005 | 1895680 | 1883709 |\n| 2006 |  956165 |  951111 |\n\n",
            "text/latex": "A data.frame: 19 × 3\n\\begin{tabular}{lll}\n DevelopmentYear & Incurred\\_Loss & Cummulate\\_Loss\\\\\n <dbl> & <dbl> & <dbl>\\\\\n\\hline\n\t 1988 &  600839 &  154058\\\\\n\t 1989 & 1309342 &  500772\\\\\n\t 1990 & 2081606 &  987503\\\\\n\t 1991 & 2859155 & 1587324\\\\\n\t 1992 & 3674297 & 2234030\\\\\n\t 1993 & 4522315 & 2982593\\\\\n\t 1994 & 5404961 & 3781285\\\\\n\t 1995 & 6311670 & 4646588\\\\\n\t 1996 & 7174345 & 5562037\\\\\n\t 1997 & 8051238 & 6449562\\\\\n\t 1998 & 7429344 & 6460829\\\\\n\t 1999 & 6749233 & 6209861\\\\\n\t 2000 & 6042077 & 5744583\\\\\n\t 2001 & 5322303 & 5158822\\\\\n\t 2002 & 4550222 & 4462499\\\\\n\t 2003 & 3715769 & 3674079\\\\\n\t 2004 & 2810161 & 2786136\\\\\n\t 2005 & 1895680 & 1883709\\\\\n\t 2006 &  956165 &  951111\\\\\n\\end{tabular}\n"
          },
          "metadata": {}
        }
      ]
    },
    {
      "cell_type": "markdown",
      "source": [
        "Se tienen las gráficas para el análisis exploratorio de la información:"
      ],
      "metadata": {
        "id": "p3TTa0Ropg39"
      }
    },
    {
      "cell_type": "code",
      "source": [
        "ggplot(data = resumen_por_año, aes(x = DevelopmentYear)) +\n",
        "  geom_line(aes(y = Incurred_Loss, color = \"Incurred Loss\"), linetype = \"solid\") +\n",
        "  geom_line(aes(y = Cummulate_Loss, color = \"Total Paid Loss\"), linetype = \"dashed\") +\n",
        "  labs(title = \"Time Series: Incurred Loss vs. Total Paid Loss\",\n",
        "       x = \"Year\",\n",
        "       y = \"Value\") +\n",
        "  scale_color_manual(values = c(\"Incurred Loss\" = \"blue\", \"Total Paid Loss\" = \"red\")) +\n",
        "  scale_linetype_manual(values = c(\"Incurred Loss\" = \"solid\", \"Total Paid Loss\" = \"dashed\")) +\n",
        "  theme_minimal() +\n",
        "  theme(legend.position = \"top\")"
      ],
      "metadata": {
        "colab": {
          "base_uri": "https://localhost:8080/",
          "height": 437
        },
        "id": "K52EBIe4te3R",
        "outputId": "1b0d23af-ff8f-45ca-db22-476690314782"
      },
      "execution_count": null,
      "outputs": [
        {
          "output_type": "display_data",
          "data": {
            "text/plain": [
              "plot without title"
            ],
            "image/png": "[encoded data removed]"
          },
          "metadata": {
            "image/png": {
              "width": 420,
              "height": 420
            }
          }
        }
      ]
    },
    {
      "cell_type": "markdown",
      "source": [
        "A continuación se muestra la tendencia de desarrollo con base en los siniestros ocurridos"
      ],
      "metadata": {
        "id": "8m0MAmJXHmQk"
      }
    },
    {
      "cell_type": "code",
      "source": [
        "ggplot(data = AutoComercial, aes(x = AccidentYear, y = DevelopmentYear)) +\n",
        "  geom_point() +\n",
        "  labs(title = \"Gráfica de Dispersión entre AccidentYear y DevelopmentYear\",\n",
        "       x = \"AccidentYear\",\n",
        "       y = \"DevelopmentYear\") +\n",
        "  theme_minimal()"
      ],
      "metadata": {
        "colab": {
          "base_uri": "https://localhost:8080/",
          "height": 437
        },
        "id": "d4xjsUfGIQrw",
        "outputId": "47618cc1-c9f3-4005-aeee-c10f52e9273d"
      },
      "execution_count": null,
      "outputs": [
        {
          "output_type": "display_data",
          "data": {
            "text/plain": [
              "plot without title"
            ],
            "image/png": "[encoded data removed]"
          },
          "metadata": {
            "image/png": {
              "width": 420,
              "height": 420
            }
          }
        }
      ]
    },
    {
      "cell_type": "markdown",
      "source": [
        "Para el reporte de calidad se empieza por un análisis de valores nulos"
      ],
      "metadata": {
        "id": "5H0pXkHMKYty"
      }
    },
    {
      "cell_type": "code",
      "source": [
        "Nulos<-is.na(AutoComercial)\n",
        "\n",
        "cantidad_nulos_por_columna <- colSums(Nulos)\n",
        "\n",
        "tabla_nulos <- data.frame(Variable = names(cantidad_nulos_por_columna),\n",
        "                          ValoresNulos = cantidad_nulos_por_columna)\n",
        "print(tabla_nulos)"
      ],
      "metadata": {
        "colab": {
          "base_uri": "https://localhost:8080/"
        },
        "id": "EvnjsgRkKdrf",
        "outputId": "ce3ed2ea-9a50-4d76-c140-5bdd62015554"
      },
      "execution_count": null,
      "outputs": [
        {
          "output_type": "stream",
          "name": "stdout",
          "text": [
            "                           Variable ValoresNulos\n",
            "GRCODE                       GRCODE            0\n",
            "GRNAME                       GRNAME            0\n",
            "AccidentYear           AccidentYear            0\n",
            "DevelopmentYear     DevelopmentYear            0\n",
            "DevelopmentLag       DevelopmentLag            0\n",
            "IncurLoss_C             IncurLoss_C            0\n",
            "CumPaidLoss_C         CumPaidLoss_C            0\n",
            "BulkLoss_C               BulkLoss_C            0\n",
            "EarnedPremDIR_C     EarnedPremDIR_C            0\n",
            "EarnedPremCeded_C EarnedPremCeded_C            0\n",
            "EarnedPremNet_C     EarnedPremNet_C            0\n",
            "Single                       Single            0\n",
            "PostedReserve97_C PostedReserve97_C            0\n"
          ]
        }
      ]
    }
  ]
}